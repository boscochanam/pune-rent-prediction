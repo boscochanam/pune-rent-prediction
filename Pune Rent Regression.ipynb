{
 "cells": [
  {
   "cell_type": "markdown",
   "id": "a46b2e68",
   "metadata": {},
   "source": [
    "## Importing Libraries"
   ]
  },
  {
   "cell_type": "code",
   "execution_count": 1,
   "id": "ec385ac3",
   "metadata": {},
   "outputs": [],
   "source": [
    "import pandas as pd\n",
    "import matplotlib.pyplot as plt\n",
    "from sklearn import linear_model\n",
    "import seaborn as sns\n",
    "import matplotlib.pyplot as plt\n",
    "import numpy as np"
   ]
  },
  {
   "cell_type": "markdown",
   "id": "0370f1fb",
   "metadata": {},
   "source": [
    "## Getting Data"
   ]
  },
  {
   "cell_type": "code",
   "execution_count": 2,
   "id": "45ae53a6",
   "metadata": {},
   "outputs": [],
   "source": [
    "df = pd.read_csv('train.csv')\n",
    "df_test = pd.read_csv('test.csv')"
   ]
  },
  {
   "cell_type": "markdown",
   "id": "4b95e57a",
   "metadata": {},
   "source": [
    "## Knowing Our Data"
   ]
  },
  {
   "cell_type": "code",
   "execution_count": 3,
   "id": "b28878f7",
   "metadata": {
    "scrolled": true
   },
   "outputs": [
    {
     "data": {
      "text/plain": [
       "bedroom                int64\n",
       "bathrooms              int64\n",
       "area                 float64\n",
       "furnishing            object\n",
       "avalable_for          object\n",
       "address               object\n",
       "floor_number           int64\n",
       "facing                object\n",
       "floor_type            object\n",
       "gate_community        object\n",
       "corner_pro            object\n",
       "parking                int64\n",
       "wheelchairadption     object\n",
       "petfacility           object\n",
       "aggDur                 int64\n",
       "noticeDur              int64\n",
       "lightbill              int64\n",
       "powerbackup            int64\n",
       "propertyage           object\n",
       "no_room                int64\n",
       "pooja_room             int64\n",
       "study_room             int64\n",
       "others                 int64\n",
       "servant_room           int64\n",
       "store_room             int64\n",
       "maintenance_amt       object\n",
       "brok_amt               int64\n",
       "deposit_amt            int64\n",
       "mnt_amt              float64\n",
       "rent                 float64\n",
       "dtype: object"
      ]
     },
     "execution_count": 3,
     "metadata": {},
     "output_type": "execute_result"
    }
   ],
   "source": [
    "df.dtypes"
   ]
  },
  {
   "cell_type": "code",
   "execution_count": 4,
   "id": "cded10bd",
   "metadata": {},
   "outputs": [
    {
     "data": {
      "text/plain": [
       "bedroom              0\n",
       "bathrooms            0\n",
       "area                 0\n",
       "furnishing           0\n",
       "avalable_for         0\n",
       "address              0\n",
       "floor_number         0\n",
       "facing               0\n",
       "floor_type           0\n",
       "gate_community       0\n",
       "corner_pro           0\n",
       "parking              0\n",
       "wheelchairadption    0\n",
       "petfacility          0\n",
       "aggDur               0\n",
       "noticeDur            0\n",
       "lightbill            0\n",
       "powerbackup          0\n",
       "propertyage          0\n",
       "no_room              0\n",
       "pooja_room           0\n",
       "study_room           0\n",
       "others               0\n",
       "servant_room         0\n",
       "store_room           0\n",
       "maintenance_amt      0\n",
       "brok_amt             0\n",
       "deposit_amt          0\n",
       "mnt_amt              0\n",
       "rent                 0\n",
       "dtype: int64"
      ]
     },
     "execution_count": 4,
     "metadata": {},
     "output_type": "execute_result"
    }
   ],
   "source": [
    "#Checking for Null Values\n",
    "df.isnull().sum()"
   ]
  },
  {
   "cell_type": "code",
   "execution_count": 5,
   "id": "42cebb18",
   "metadata": {},
   "outputs": [
    {
     "data": {
      "text/html": [
       "<div>\n",
       "<style scoped>\n",
       "    .dataframe tbody tr th:only-of-type {\n",
       "        vertical-align: middle;\n",
       "    }\n",
       "\n",
       "    .dataframe tbody tr th {\n",
       "        vertical-align: top;\n",
       "    }\n",
       "\n",
       "    .dataframe thead th {\n",
       "        text-align: right;\n",
       "    }\n",
       "</style>\n",
       "<table border=\"1\" class=\"dataframe\">\n",
       "  <thead>\n",
       "    <tr style=\"text-align: right;\">\n",
       "      <th></th>\n",
       "      <th>bedroom</th>\n",
       "      <th>bathrooms</th>\n",
       "      <th>area</th>\n",
       "      <th>floor_number</th>\n",
       "      <th>parking</th>\n",
       "      <th>aggDur</th>\n",
       "      <th>noticeDur</th>\n",
       "      <th>lightbill</th>\n",
       "      <th>powerbackup</th>\n",
       "      <th>no_room</th>\n",
       "      <th>pooja_room</th>\n",
       "      <th>study_room</th>\n",
       "      <th>others</th>\n",
       "      <th>servant_room</th>\n",
       "      <th>store_room</th>\n",
       "      <th>brok_amt</th>\n",
       "      <th>deposit_amt</th>\n",
       "      <th>mnt_amt</th>\n",
       "      <th>rent</th>\n",
       "    </tr>\n",
       "  </thead>\n",
       "  <tbody>\n",
       "    <tr>\n",
       "      <th>count</th>\n",
       "      <td>10884.000000</td>\n",
       "      <td>10884.000000</td>\n",
       "      <td>10884.000000</td>\n",
       "      <td>10884.000000</td>\n",
       "      <td>10884.000000</td>\n",
       "      <td>10884.000000</td>\n",
       "      <td>10884.000000</td>\n",
       "      <td>10884.000000</td>\n",
       "      <td>10884.000000</td>\n",
       "      <td>10884.000000</td>\n",
       "      <td>10884.000000</td>\n",
       "      <td>10884.000000</td>\n",
       "      <td>10884.000000</td>\n",
       "      <td>10884.000000</td>\n",
       "      <td>10884.000000</td>\n",
       "      <td>10884.000000</td>\n",
       "      <td>1.088400e+04</td>\n",
       "      <td>10884.000000</td>\n",
       "      <td>1.088400e+04</td>\n",
       "    </tr>\n",
       "    <tr>\n",
       "      <th>mean</th>\n",
       "      <td>1.797868</td>\n",
       "      <td>1.779677</td>\n",
       "      <td>528.558560</td>\n",
       "      <td>3.062018</td>\n",
       "      <td>0.884693</td>\n",
       "      <td>7.423649</td>\n",
       "      <td>0.722345</td>\n",
       "      <td>0.172639</td>\n",
       "      <td>0.712422</td>\n",
       "      <td>0.750276</td>\n",
       "      <td>0.062201</td>\n",
       "      <td>0.048144</td>\n",
       "      <td>0.124495</td>\n",
       "      <td>0.032157</td>\n",
       "      <td>0.045296</td>\n",
       "      <td>7075.270764</td>\n",
       "      <td>3.670939e+04</td>\n",
       "      <td>257.493025</td>\n",
       "      <td>2.855947e+04</td>\n",
       "    </tr>\n",
       "    <tr>\n",
       "      <th>std</th>\n",
       "      <td>0.807328</td>\n",
       "      <td>0.832231</td>\n",
       "      <td>930.460935</td>\n",
       "      <td>2.390430</td>\n",
       "      <td>0.559457</td>\n",
       "      <td>7.670543</td>\n",
       "      <td>0.698966</td>\n",
       "      <td>0.377952</td>\n",
       "      <td>0.842667</td>\n",
       "      <td>0.432873</td>\n",
       "      <td>0.241532</td>\n",
       "      <td>0.214080</td>\n",
       "      <td>0.330160</td>\n",
       "      <td>0.176426</td>\n",
       "      <td>0.207962</td>\n",
       "      <td>17269.507644</td>\n",
       "      <td>5.589578e+04</td>\n",
       "      <td>1247.938097</td>\n",
       "      <td>1.183249e+06</td>\n",
       "    </tr>\n",
       "    <tr>\n",
       "      <th>min</th>\n",
       "      <td>1.000000</td>\n",
       "      <td>1.000000</td>\n",
       "      <td>0.000000</td>\n",
       "      <td>0.000000</td>\n",
       "      <td>0.000000</td>\n",
       "      <td>0.000000</td>\n",
       "      <td>0.000000</td>\n",
       "      <td>0.000000</td>\n",
       "      <td>0.000000</td>\n",
       "      <td>0.000000</td>\n",
       "      <td>0.000000</td>\n",
       "      <td>0.000000</td>\n",
       "      <td>0.000000</td>\n",
       "      <td>0.000000</td>\n",
       "      <td>0.000000</td>\n",
       "      <td>0.000000</td>\n",
       "      <td>0.000000e+00</td>\n",
       "      <td>0.000000</td>\n",
       "      <td>1.600000e+03</td>\n",
       "    </tr>\n",
       "    <tr>\n",
       "      <th>25%</th>\n",
       "      <td>1.000000</td>\n",
       "      <td>1.000000</td>\n",
       "      <td>0.000000</td>\n",
       "      <td>1.000000</td>\n",
       "      <td>1.000000</td>\n",
       "      <td>0.000000</td>\n",
       "      <td>0.000000</td>\n",
       "      <td>0.000000</td>\n",
       "      <td>0.000000</td>\n",
       "      <td>1.000000</td>\n",
       "      <td>0.000000</td>\n",
       "      <td>0.000000</td>\n",
       "      <td>0.000000</td>\n",
       "      <td>0.000000</td>\n",
       "      <td>0.000000</td>\n",
       "      <td>0.000000</td>\n",
       "      <td>4.000000e+00</td>\n",
       "      <td>0.000000</td>\n",
       "      <td>1.050000e+04</td>\n",
       "    </tr>\n",
       "    <tr>\n",
       "      <th>50%</th>\n",
       "      <td>2.000000</td>\n",
       "      <td>2.000000</td>\n",
       "      <td>510.000000</td>\n",
       "      <td>3.000000</td>\n",
       "      <td>1.000000</td>\n",
       "      <td>11.000000</td>\n",
       "      <td>1.000000</td>\n",
       "      <td>0.000000</td>\n",
       "      <td>0.000000</td>\n",
       "      <td>1.000000</td>\n",
       "      <td>0.000000</td>\n",
       "      <td>0.000000</td>\n",
       "      <td>0.000000</td>\n",
       "      <td>0.000000</td>\n",
       "      <td>0.000000</td>\n",
       "      <td>0.000000</td>\n",
       "      <td>3.000000e+04</td>\n",
       "      <td>0.000000</td>\n",
       "      <td>1.500000e+04</td>\n",
       "    </tr>\n",
       "    <tr>\n",
       "      <th>75%</th>\n",
       "      <td>2.000000</td>\n",
       "      <td>2.000000</td>\n",
       "      <td>840.000000</td>\n",
       "      <td>5.000000</td>\n",
       "      <td>1.000000</td>\n",
       "      <td>11.000000</td>\n",
       "      <td>1.000000</td>\n",
       "      <td>0.000000</td>\n",
       "      <td>2.000000</td>\n",
       "      <td>1.000000</td>\n",
       "      <td>0.000000</td>\n",
       "      <td>0.000000</td>\n",
       "      <td>0.000000</td>\n",
       "      <td>0.000000</td>\n",
       "      <td>0.000000</td>\n",
       "      <td>9000.000000</td>\n",
       "      <td>5.000000e+04</td>\n",
       "      <td>0.000000</td>\n",
       "      <td>2.100000e+04</td>\n",
       "    </tr>\n",
       "    <tr>\n",
       "      <th>max</th>\n",
       "      <td>22.000000</td>\n",
       "      <td>22.000000</td>\n",
       "      <td>72775.000000</td>\n",
       "      <td>9.000000</td>\n",
       "      <td>9.000000</td>\n",
       "      <td>36.000000</td>\n",
       "      <td>6.000000</td>\n",
       "      <td>1.000000</td>\n",
       "      <td>2.000000</td>\n",
       "      <td>1.000000</td>\n",
       "      <td>1.000000</td>\n",
       "      <td>1.000000</td>\n",
       "      <td>1.000000</td>\n",
       "      <td>1.000000</td>\n",
       "      <td>1.000000</td>\n",
       "      <td>275000.000000</td>\n",
       "      <td>1.500000e+06</td>\n",
       "      <td>40000.000000</td>\n",
       "      <td>1.234568e+08</td>\n",
       "    </tr>\n",
       "  </tbody>\n",
       "</table>\n",
       "</div>"
      ],
      "text/plain": [
       "            bedroom     bathrooms          area  floor_number       parking  \\\n",
       "count  10884.000000  10884.000000  10884.000000  10884.000000  10884.000000   \n",
       "mean       1.797868      1.779677    528.558560      3.062018      0.884693   \n",
       "std        0.807328      0.832231    930.460935      2.390430      0.559457   \n",
       "min        1.000000      1.000000      0.000000      0.000000      0.000000   \n",
       "25%        1.000000      1.000000      0.000000      1.000000      1.000000   \n",
       "50%        2.000000      2.000000    510.000000      3.000000      1.000000   \n",
       "75%        2.000000      2.000000    840.000000      5.000000      1.000000   \n",
       "max       22.000000     22.000000  72775.000000      9.000000      9.000000   \n",
       "\n",
       "             aggDur     noticeDur     lightbill   powerbackup       no_room  \\\n",
       "count  10884.000000  10884.000000  10884.000000  10884.000000  10884.000000   \n",
       "mean       7.423649      0.722345      0.172639      0.712422      0.750276   \n",
       "std        7.670543      0.698966      0.377952      0.842667      0.432873   \n",
       "min        0.000000      0.000000      0.000000      0.000000      0.000000   \n",
       "25%        0.000000      0.000000      0.000000      0.000000      1.000000   \n",
       "50%       11.000000      1.000000      0.000000      0.000000      1.000000   \n",
       "75%       11.000000      1.000000      0.000000      2.000000      1.000000   \n",
       "max       36.000000      6.000000      1.000000      2.000000      1.000000   \n",
       "\n",
       "         pooja_room    study_room        others  servant_room    store_room  \\\n",
       "count  10884.000000  10884.000000  10884.000000  10884.000000  10884.000000   \n",
       "mean       0.062201      0.048144      0.124495      0.032157      0.045296   \n",
       "std        0.241532      0.214080      0.330160      0.176426      0.207962   \n",
       "min        0.000000      0.000000      0.000000      0.000000      0.000000   \n",
       "25%        0.000000      0.000000      0.000000      0.000000      0.000000   \n",
       "50%        0.000000      0.000000      0.000000      0.000000      0.000000   \n",
       "75%        0.000000      0.000000      0.000000      0.000000      0.000000   \n",
       "max        1.000000      1.000000      1.000000      1.000000      1.000000   \n",
       "\n",
       "            brok_amt   deposit_amt       mnt_amt          rent  \n",
       "count   10884.000000  1.088400e+04  10884.000000  1.088400e+04  \n",
       "mean     7075.270764  3.670939e+04    257.493025  2.855947e+04  \n",
       "std     17269.507644  5.589578e+04   1247.938097  1.183249e+06  \n",
       "min         0.000000  0.000000e+00      0.000000  1.600000e+03  \n",
       "25%         0.000000  4.000000e+00      0.000000  1.050000e+04  \n",
       "50%         0.000000  3.000000e+04      0.000000  1.500000e+04  \n",
       "75%      9000.000000  5.000000e+04      0.000000  2.100000e+04  \n",
       "max    275000.000000  1.500000e+06  40000.000000  1.234568e+08  "
      ]
     },
     "execution_count": 5,
     "metadata": {},
     "output_type": "execute_result"
    }
   ],
   "source": [
    "df.describe()"
   ]
  },
  {
   "cell_type": "code",
   "execution_count": 6,
   "id": "55eddb74",
   "metadata": {
    "scrolled": true
   },
   "outputs": [
    {
     "name": "stdout",
     "output_type": "stream",
     "text": [
      "Numeric:['bedroom', 'bathrooms', 'area', 'floor_number', 'parking', 'aggDur', 'noticeDur', 'lightbill', 'powerbackup', 'no_room', 'pooja_room', 'study_room', 'others', 'servant_room', 'store_room', 'brok_amt', 'deposit_amt', 'mnt_amt', 'rent']\n",
      "\n",
      "Categorical:['furnishing', 'avalable_for', 'address', 'facing', 'floor_type', 'gate_community', 'corner_pro', 'wheelchairadption', 'petfacility', 'propertyage', 'maintenance_amt']\n"
     ]
    }
   ],
   "source": [
    "# Knowing which columns are categorical and which are numeric\n",
    "num_cols = [feature for feature in df.columns if df[feature].dtypes!='O']\n",
    "cat_cols = [feature for feature in df.columns if df[feature].dtypes=='O']\n",
    "print(f\"Numeric:{num_cols}\\n\\nCategorical:{cat_cols}\" )"
   ]
  },
  {
   "cell_type": "markdown",
   "id": "2e7902bf",
   "metadata": {},
   "source": [
    "## Modifying Address so it represents area"
   ]
  },
  {
   "cell_type": "code",
   "execution_count": 7,
   "id": "71e45957",
   "metadata": {},
   "outputs": [],
   "source": [
    "df['location'] = [ele.split(\",\")[1].lstrip() for ele in df[\"address\"]]\n",
    "df_test['location'] = [ele.split(\",\")[1].lstrip() for ele in df_test[\"address\"]]"
   ]
  },
  {
   "cell_type": "code",
   "execution_count": 8,
   "id": "bf41ade7",
   "metadata": {},
   "outputs": [],
   "source": [
    "df.drop([\"address\"],inplace=True,axis=1)\n",
    "df_test.drop([\"address\"],inplace=True,axis=1)"
   ]
  },
  {
   "cell_type": "code",
   "execution_count": 9,
   "id": "0165f470",
   "metadata": {},
   "outputs": [
    {
     "name": "stderr",
     "output_type": "stream",
     "text": [
      "C:\\Users\\chana\\AppData\\Local\\Temp\\ipykernel_9648\\256975099.py:1: FutureWarning: The default value of numeric_only in DataFrame.quantile is deprecated. In a future version, it will default to False. Select only valid columns or specify the value of numeric_only to silence this warning.\n",
      "  q1 = df.quantile(0.15)\n",
      "C:\\Users\\chana\\AppData\\Local\\Temp\\ipykernel_9648\\256975099.py:2: FutureWarning: The default value of numeric_only in DataFrame.quantile is deprecated. In a future version, it will default to False. Select only valid columns or specify the value of numeric_only to silence this warning.\n",
      "  q3 = df.quantile(0.85)\n",
      "C:\\Users\\chana\\AppData\\Local\\Temp\\ipykernel_9648\\256975099.py:6: FutureWarning: Automatic reindexing on DataFrame vs Series comparisons is deprecated and will raise ValueError in a future version. Do `left, right = left.align(right, axis=1, copy=False)` before e.g. `left == right`\n",
      "  df = df[~((df < (q1 - threshold)) | (df > (q3 + threshold))).any(axis=1)]\n"
     ]
    }
   ],
   "source": [
    "q1 = df.quantile(0.15)\n",
    "q3 = df.quantile(0.85)\n",
    "iqr = q3 - q1\n",
    "threshold_factor = 1.5\n",
    "threshold = iqr * threshold_factor\n",
    "df = df[~((df < (q1 - threshold)) | (df > (q3 + threshold))).any(axis=1)]"
   ]
  },
  {
   "cell_type": "code",
   "execution_count": 10,
   "id": "caaf68be",
   "metadata": {
    "scrolled": false
   },
   "outputs": [
    {
     "data": {
      "text/html": [
       "<div>\n",
       "<style scoped>\n",
       "    .dataframe tbody tr th:only-of-type {\n",
       "        vertical-align: middle;\n",
       "    }\n",
       "\n",
       "    .dataframe tbody tr th {\n",
       "        vertical-align: top;\n",
       "    }\n",
       "\n",
       "    .dataframe thead th {\n",
       "        text-align: right;\n",
       "    }\n",
       "</style>\n",
       "<table border=\"1\" class=\"dataframe\">\n",
       "  <thead>\n",
       "    <tr style=\"text-align: right;\">\n",
       "      <th></th>\n",
       "      <th>bedroom</th>\n",
       "      <th>bathrooms</th>\n",
       "      <th>area</th>\n",
       "      <th>furnishing</th>\n",
       "      <th>avalable_for</th>\n",
       "      <th>floor_number</th>\n",
       "      <th>facing</th>\n",
       "      <th>floor_type</th>\n",
       "      <th>gate_community</th>\n",
       "      <th>corner_pro</th>\n",
       "      <th>...</th>\n",
       "      <th>study_room</th>\n",
       "      <th>others</th>\n",
       "      <th>servant_room</th>\n",
       "      <th>store_room</th>\n",
       "      <th>maintenance_amt</th>\n",
       "      <th>brok_amt</th>\n",
       "      <th>deposit_amt</th>\n",
       "      <th>mnt_amt</th>\n",
       "      <th>rent</th>\n",
       "      <th>location</th>\n",
       "    </tr>\n",
       "  </thead>\n",
       "  <tbody>\n",
       "    <tr>\n",
       "      <th>0</th>\n",
       "      <td>2</td>\n",
       "      <td>2</td>\n",
       "      <td>1050.0</td>\n",
       "      <td>Unfurnished</td>\n",
       "      <td>All</td>\n",
       "      <td>5</td>\n",
       "      <td>West</td>\n",
       "      <td>Marble</td>\n",
       "      <td>Yes</td>\n",
       "      <td>No</td>\n",
       "      <td>...</td>\n",
       "      <td>0</td>\n",
       "      <td>0</td>\n",
       "      <td>0</td>\n",
       "      <td>0</td>\n",
       "      <td>0</td>\n",
       "      <td>0</td>\n",
       "      <td>3</td>\n",
       "      <td>0.0</td>\n",
       "      <td>20000.0</td>\n",
       "      <td>Pingale Wasti</td>\n",
       "    </tr>\n",
       "    <tr>\n",
       "      <th>1</th>\n",
       "      <td>2</td>\n",
       "      <td>2</td>\n",
       "      <td>760.0</td>\n",
       "      <td>Unfurnished</td>\n",
       "      <td>All</td>\n",
       "      <td>5</td>\n",
       "      <td>East</td>\n",
       "      <td>Vitrified</td>\n",
       "      <td>Yes</td>\n",
       "      <td>Yes</td>\n",
       "      <td>...</td>\n",
       "      <td>0</td>\n",
       "      <td>0</td>\n",
       "      <td>0</td>\n",
       "      <td>0</td>\n",
       "      <td>0</td>\n",
       "      <td>0</td>\n",
       "      <td>40000</td>\n",
       "      <td>0.0</td>\n",
       "      <td>14000.0</td>\n",
       "      <td>Wagholi</td>\n",
       "    </tr>\n",
       "    <tr>\n",
       "      <th>3</th>\n",
       "      <td>1</td>\n",
       "      <td>1</td>\n",
       "      <td>628.0</td>\n",
       "      <td>Furnished</td>\n",
       "      <td>Family Only</td>\n",
       "      <td>3</td>\n",
       "      <td>East</td>\n",
       "      <td>Mosaic</td>\n",
       "      <td>Yes</td>\n",
       "      <td>No</td>\n",
       "      <td>...</td>\n",
       "      <td>0</td>\n",
       "      <td>0</td>\n",
       "      <td>0</td>\n",
       "      <td>0</td>\n",
       "      <td>0</td>\n",
       "      <td>0</td>\n",
       "      <td>40000</td>\n",
       "      <td>0.0</td>\n",
       "      <td>13000.0</td>\n",
       "      <td>Wanowrie</td>\n",
       "    </tr>\n",
       "    <tr>\n",
       "      <th>4</th>\n",
       "      <td>2</td>\n",
       "      <td>2</td>\n",
       "      <td>668.0</td>\n",
       "      <td>Semifurnished</td>\n",
       "      <td>Family , Bachelors (Men Only)</td>\n",
       "      <td>6</td>\n",
       "      <td>South</td>\n",
       "      <td>Polished concrete</td>\n",
       "      <td>Yes</td>\n",
       "      <td>Yes</td>\n",
       "      <td>...</td>\n",
       "      <td>0</td>\n",
       "      <td>0</td>\n",
       "      <td>0</td>\n",
       "      <td>0</td>\n",
       "      <td>0</td>\n",
       "      <td>0</td>\n",
       "      <td>20</td>\n",
       "      <td>0.0</td>\n",
       "      <td>7500.0</td>\n",
       "      <td>Uruli Devachi</td>\n",
       "    </tr>\n",
       "    <tr>\n",
       "      <th>5</th>\n",
       "      <td>2</td>\n",
       "      <td>2</td>\n",
       "      <td>950.0</td>\n",
       "      <td>Semifurnished</td>\n",
       "      <td>Family Only</td>\n",
       "      <td>1</td>\n",
       "      <td>No Direction</td>\n",
       "      <td>Ceramic</td>\n",
       "      <td>No</td>\n",
       "      <td>No</td>\n",
       "      <td>...</td>\n",
       "      <td>0</td>\n",
       "      <td>0</td>\n",
       "      <td>0</td>\n",
       "      <td>0</td>\n",
       "      <td>0</td>\n",
       "      <td>0</td>\n",
       "      <td>50000</td>\n",
       "      <td>0.0</td>\n",
       "      <td>17000.0</td>\n",
       "      <td>Baner</td>\n",
       "    </tr>\n",
       "  </tbody>\n",
       "</table>\n",
       "<p>5 rows × 30 columns</p>\n",
       "</div>"
      ],
      "text/plain": [
       "   bedroom  bathrooms    area     furnishing                   avalable_for  \\\n",
       "0        2          2  1050.0    Unfurnished                            All   \n",
       "1        2          2   760.0    Unfurnished                            All   \n",
       "3        1          1   628.0      Furnished                    Family Only   \n",
       "4        2          2   668.0  Semifurnished  Family , Bachelors (Men Only)   \n",
       "5        2          2   950.0  Semifurnished                    Family Only   \n",
       "\n",
       "   floor_number        facing         floor_type gate_community corner_pro  \\\n",
       "0             5          West             Marble            Yes         No   \n",
       "1             5          East          Vitrified            Yes        Yes   \n",
       "3             3          East             Mosaic            Yes         No   \n",
       "4             6         South  Polished concrete            Yes        Yes   \n",
       "5             1  No Direction            Ceramic             No         No   \n",
       "\n",
       "   ...  study_room others servant_room  store_room  maintenance_amt  brok_amt  \\\n",
       "0  ...           0      0            0           0                0         0   \n",
       "1  ...           0      0            0           0                0         0   \n",
       "3  ...           0      0            0           0                0         0   \n",
       "4  ...           0      0            0           0                0         0   \n",
       "5  ...           0      0            0           0                0         0   \n",
       "\n",
       "   deposit_amt mnt_amt     rent       location  \n",
       "0            3     0.0  20000.0  Pingale Wasti  \n",
       "1        40000     0.0  14000.0        Wagholi  \n",
       "3        40000     0.0  13000.0       Wanowrie  \n",
       "4           20     0.0   7500.0  Uruli Devachi  \n",
       "5        50000     0.0  17000.0          Baner  \n",
       "\n",
       "[5 rows x 30 columns]"
      ]
     },
     "execution_count": 10,
     "metadata": {},
     "output_type": "execute_result"
    }
   ],
   "source": [
    "df.head(5)"
   ]
  },
  {
   "cell_type": "code",
   "execution_count": 11,
   "id": "43ff8451",
   "metadata": {},
   "outputs": [
    {
     "name": "stderr",
     "output_type": "stream",
     "text": [
      "C:\\Users\\chana\\AppData\\Local\\Temp\\ipykernel_9648\\2232350290.py:2: FutureWarning: The default value of numeric_only in DataFrame.corr is deprecated. In a future version, it will default to False. Select only valid columns or specify the value of numeric_only to silence this warning.\n",
      "  sns.heatmap(df.corr(), annot=True,vmax=1,vmin=-1, cmap=\"coolwarm\")\n"
     ]
    },
    {
     "data": {
      "text/plain": [
       "<AxesSubplot: >"
      ]
     },
     "execution_count": 11,
     "metadata": {},
     "output_type": "execute_result"
    },
    {
     "data": {
      "image/png": "[encoded data removed]",
      "text/plain": [
       "<Figure size 2000x1000 with 2 Axes>"
      ]
     },
     "metadata": {},
     "output_type": "display_data"
    }
   ],
   "source": [
    "plt.figure(figsize=(20,10))\n",
    "sns.heatmap(df.corr(), annot=True,vmax=1,vmin=-1, cmap=\"coolwarm\")"
   ]
  },
  {
   "cell_type": "code",
   "execution_count": 12,
   "id": "c95dcbc4",
   "metadata": {},
   "outputs": [
    {
     "name": "stdout",
     "output_type": "stream",
     "text": [
      "30 30\n"
     ]
    }
   ],
   "source": [
    "print(len(df.columns),len(df_test.columns))"
   ]
  },
  {
   "cell_type": "markdown",
   "id": "757ab0d4",
   "metadata": {},
   "source": [
    "## Encoding for Categorical Data"
   ]
  },
  {
   "cell_type": "code",
   "execution_count": 13,
   "id": "913f4bba",
   "metadata": {
    "scrolled": true
   },
   "outputs": [
    {
     "data": {
      "text/plain": [
       "array(['Unfurnished', 'Furnished', 'Semifurnished', 'Unfurnishe'],\n",
       "      dtype=object)"
      ]
     },
     "execution_count": 13,
     "metadata": {},
     "output_type": "execute_result"
    }
   ],
   "source": [
    "df['furnishing'].unique()"
   ]
  },
  {
   "cell_type": "code",
   "execution_count": 14,
   "id": "c0af534a",
   "metadata": {},
   "outputs": [],
   "source": [
    "df['furnishing'].replace({'Unfurnished': -1, 'Semifurnished': 0, 'Furnished': 1, 'Unfurnishe':-1}, inplace=True)\n",
    "df_test['furnishing'].replace({'Unfurnished': -1, 'Semifurnished': 0, 'Furnished': 1, 'Unfurnishe':-1}, inplace=True)"
   ]
  },
  {
   "cell_type": "code",
   "execution_count": 15,
   "id": "4e318aab",
   "metadata": {
    "scrolled": true
   },
   "outputs": [
    {
     "data": {
      "text/plain": [
       "array(['5 to 10 Year Old', '1 to 5 Year Old', '10+ Year Old',\n",
       "       '0 to 1 Year Old', 'Under Construction', 'NO age'], dtype=object)"
      ]
     },
     "execution_count": 15,
     "metadata": {},
     "output_type": "execute_result"
    }
   ],
   "source": [
    "df['propertyage'].unique()"
   ]
  },
  {
   "cell_type": "code",
   "execution_count": 16,
   "id": "183f0adf",
   "metadata": {},
   "outputs": [],
   "source": [
    "mapping = {'1 to 5 Year Old': 1, '0 to 1 Year Old': 2, '5 to 10 Year Old': 3, '10+ Year Old': 4, 'Under Construction': 5, 'NO age': 6}\n",
    "df['propertyage'] = df['propertyage'].replace(mapping)\n",
    "df_test['propertyage'] = df_test['propertyage'].replace(mapping)"
   ]
  },
  {
   "cell_type": "code",
   "execution_count": 17,
   "id": "3f3ffaef",
   "metadata": {},
   "outputs": [
    {
     "data": {
      "text/plain": [
       "array(['All', 'Family Only', 'Family , Bachelors (Men Only)',\n",
       "       'Family , Bachelors (Women Only)', 'Bachelors (Men/Women)',\n",
       "       'Bachelors (Women Only)', 'Bachelors (Men Only)', 'None'],\n",
       "      dtype=object)"
      ]
     },
     "execution_count": 17,
     "metadata": {},
     "output_type": "execute_result"
    }
   ],
   "source": [
    "df['avalable_for'].unique()"
   ]
  },
  {
   "cell_type": "code",
   "execution_count": 18,
   "id": "1ef8e584",
   "metadata": {},
   "outputs": [],
   "source": [
    "mapping = {'All': 0, 'Family Only': 1, 'Family , Bachelors (Men Only)': 2, 'None': 3, 'Family , Bachelors (Women Only)': 2, 'Bachelors (Men/Women)': 4, 'Bachelors (Men Only)': 4, 'Bachelors (Women Only)': 4}\n",
    "\n",
    "# Create a new column with the grouped categories\n",
    "df['avalable_for'] = df['avalable_for'].replace(mapping)\n",
    "df_test['avalable_for'] = df_test['avalable_for'].replace(mapping)"
   ]
  },
  {
   "cell_type": "code",
   "execution_count": 19,
   "id": "8487e733",
   "metadata": {},
   "outputs": [
    {
     "name": "stdout",
     "output_type": "stream",
     "text": [
      "30 30\n"
     ]
    }
   ],
   "source": [
    "print(len(df.columns),len(df_test.columns))"
   ]
  },
  {
   "cell_type": "code",
   "execution_count": 20,
   "id": "2386179e",
   "metadata": {},
   "outputs": [],
   "source": [
    "df = pd.get_dummies(df, columns=['location'], drop_first=True)\n",
    "df_test = pd.get_dummies(df_test, columns=['location'], drop_first=True)\n",
    "df_test = df_test.reindex(columns=df.columns, fill_value=0)"
   ]
  },
  {
   "cell_type": "code",
   "execution_count": 21,
   "id": "0b3deb08",
   "metadata": {},
   "outputs": [
    {
     "name": "stdout",
     "output_type": "stream",
     "text": [
      "886 886\n"
     ]
    }
   ],
   "source": [
    "print(len(df.columns),len(df_test.columns))"
   ]
  },
  {
   "cell_type": "code",
   "execution_count": 22,
   "id": "2f3d1858",
   "metadata": {
    "scrolled": false
   },
   "outputs": [
    {
     "data": {
      "text/html": [
       "<div>\n",
       "<style scoped>\n",
       "    .dataframe tbody tr th:only-of-type {\n",
       "        vertical-align: middle;\n",
       "    }\n",
       "\n",
       "    .dataframe tbody tr th {\n",
       "        vertical-align: top;\n",
       "    }\n",
       "\n",
       "    .dataframe thead th {\n",
       "        text-align: right;\n",
       "    }\n",
       "</style>\n",
       "<table border=\"1\" class=\"dataframe\">\n",
       "  <thead>\n",
       "    <tr style=\"text-align: right;\">\n",
       "      <th></th>\n",
       "      <th>bedroom</th>\n",
       "      <th>bathrooms</th>\n",
       "      <th>area</th>\n",
       "      <th>furnishing</th>\n",
       "      <th>avalable_for</th>\n",
       "      <th>floor_number</th>\n",
       "      <th>facing</th>\n",
       "      <th>floor_type</th>\n",
       "      <th>gate_community</th>\n",
       "      <th>corner_pro</th>\n",
       "      <th>...</th>\n",
       "      <th>location_tushar park</th>\n",
       "      <th>location_uttkarsh society katraj</th>\n",
       "      <th>location_vadgaon budruk</th>\n",
       "      <th>location_vadgaonsheri</th>\n",
       "      <th>location_vishrantwadi</th>\n",
       "      <th>location_vithai nagar</th>\n",
       "      <th>location_wadgaon sheri</th>\n",
       "      <th>location_wadgaonsheri</th>\n",
       "      <th>location_waghere Colony no.4</th>\n",
       "      <th>location_wagholi</th>\n",
       "    </tr>\n",
       "  </thead>\n",
       "  <tbody>\n",
       "    <tr>\n",
       "      <th>0</th>\n",
       "      <td>2</td>\n",
       "      <td>2</td>\n",
       "      <td>1050.0</td>\n",
       "      <td>-1</td>\n",
       "      <td>0</td>\n",
       "      <td>5</td>\n",
       "      <td>West</td>\n",
       "      <td>Marble</td>\n",
       "      <td>Yes</td>\n",
       "      <td>No</td>\n",
       "      <td>...</td>\n",
       "      <td>0</td>\n",
       "      <td>0</td>\n",
       "      <td>0</td>\n",
       "      <td>0</td>\n",
       "      <td>0</td>\n",
       "      <td>0</td>\n",
       "      <td>0</td>\n",
       "      <td>0</td>\n",
       "      <td>0</td>\n",
       "      <td>0</td>\n",
       "    </tr>\n",
       "    <tr>\n",
       "      <th>1</th>\n",
       "      <td>2</td>\n",
       "      <td>2</td>\n",
       "      <td>760.0</td>\n",
       "      <td>-1</td>\n",
       "      <td>0</td>\n",
       "      <td>5</td>\n",
       "      <td>East</td>\n",
       "      <td>Vitrified</td>\n",
       "      <td>Yes</td>\n",
       "      <td>Yes</td>\n",
       "      <td>...</td>\n",
       "      <td>0</td>\n",
       "      <td>0</td>\n",
       "      <td>0</td>\n",
       "      <td>0</td>\n",
       "      <td>0</td>\n",
       "      <td>0</td>\n",
       "      <td>0</td>\n",
       "      <td>0</td>\n",
       "      <td>0</td>\n",
       "      <td>0</td>\n",
       "    </tr>\n",
       "    <tr>\n",
       "      <th>3</th>\n",
       "      <td>1</td>\n",
       "      <td>1</td>\n",
       "      <td>628.0</td>\n",
       "      <td>1</td>\n",
       "      <td>1</td>\n",
       "      <td>3</td>\n",
       "      <td>East</td>\n",
       "      <td>Mosaic</td>\n",
       "      <td>Yes</td>\n",
       "      <td>No</td>\n",
       "      <td>...</td>\n",
       "      <td>0</td>\n",
       "      <td>0</td>\n",
       "      <td>0</td>\n",
       "      <td>0</td>\n",
       "      <td>0</td>\n",
       "      <td>0</td>\n",
       "      <td>0</td>\n",
       "      <td>0</td>\n",
       "      <td>0</td>\n",
       "      <td>0</td>\n",
       "    </tr>\n",
       "    <tr>\n",
       "      <th>4</th>\n",
       "      <td>2</td>\n",
       "      <td>2</td>\n",
       "      <td>668.0</td>\n",
       "      <td>0</td>\n",
       "      <td>2</td>\n",
       "      <td>6</td>\n",
       "      <td>South</td>\n",
       "      <td>Polished concrete</td>\n",
       "      <td>Yes</td>\n",
       "      <td>Yes</td>\n",
       "      <td>...</td>\n",
       "      <td>0</td>\n",
       "      <td>0</td>\n",
       "      <td>0</td>\n",
       "      <td>0</td>\n",
       "      <td>0</td>\n",
       "      <td>0</td>\n",
       "      <td>0</td>\n",
       "      <td>0</td>\n",
       "      <td>0</td>\n",
       "      <td>0</td>\n",
       "    </tr>\n",
       "    <tr>\n",
       "      <th>5</th>\n",
       "      <td>2</td>\n",
       "      <td>2</td>\n",
       "      <td>950.0</td>\n",
       "      <td>0</td>\n",
       "      <td>1</td>\n",
       "      <td>1</td>\n",
       "      <td>No Direction</td>\n",
       "      <td>Ceramic</td>\n",
       "      <td>No</td>\n",
       "      <td>No</td>\n",
       "      <td>...</td>\n",
       "      <td>0</td>\n",
       "      <td>0</td>\n",
       "      <td>0</td>\n",
       "      <td>0</td>\n",
       "      <td>0</td>\n",
       "      <td>0</td>\n",
       "      <td>0</td>\n",
       "      <td>0</td>\n",
       "      <td>0</td>\n",
       "      <td>0</td>\n",
       "    </tr>\n",
       "    <tr>\n",
       "      <th>7</th>\n",
       "      <td>2</td>\n",
       "      <td>2</td>\n",
       "      <td>900.0</td>\n",
       "      <td>-1</td>\n",
       "      <td>0</td>\n",
       "      <td>1</td>\n",
       "      <td>No Direction</td>\n",
       "      <td>Not provided</td>\n",
       "      <td>No</td>\n",
       "      <td>No</td>\n",
       "      <td>...</td>\n",
       "      <td>0</td>\n",
       "      <td>0</td>\n",
       "      <td>0</td>\n",
       "      <td>0</td>\n",
       "      <td>0</td>\n",
       "      <td>0</td>\n",
       "      <td>0</td>\n",
       "      <td>0</td>\n",
       "      <td>0</td>\n",
       "      <td>0</td>\n",
       "    </tr>\n",
       "    <tr>\n",
       "      <th>10</th>\n",
       "      <td>2</td>\n",
       "      <td>2</td>\n",
       "      <td>0.0</td>\n",
       "      <td>0</td>\n",
       "      <td>1</td>\n",
       "      <td>3</td>\n",
       "      <td>South-East</td>\n",
       "      <td>Not provided</td>\n",
       "      <td>Yes</td>\n",
       "      <td>No</td>\n",
       "      <td>...</td>\n",
       "      <td>0</td>\n",
       "      <td>0</td>\n",
       "      <td>0</td>\n",
       "      <td>0</td>\n",
       "      <td>0</td>\n",
       "      <td>0</td>\n",
       "      <td>0</td>\n",
       "      <td>0</td>\n",
       "      <td>0</td>\n",
       "      <td>0</td>\n",
       "    </tr>\n",
       "    <tr>\n",
       "      <th>11</th>\n",
       "      <td>2</td>\n",
       "      <td>2</td>\n",
       "      <td>1000.0</td>\n",
       "      <td>-1</td>\n",
       "      <td>0</td>\n",
       "      <td>2</td>\n",
       "      <td>North-East</td>\n",
       "      <td>Mosaic</td>\n",
       "      <td>Yes</td>\n",
       "      <td>Yes</td>\n",
       "      <td>...</td>\n",
       "      <td>0</td>\n",
       "      <td>0</td>\n",
       "      <td>0</td>\n",
       "      <td>0</td>\n",
       "      <td>0</td>\n",
       "      <td>0</td>\n",
       "      <td>0</td>\n",
       "      <td>0</td>\n",
       "      <td>0</td>\n",
       "      <td>0</td>\n",
       "    </tr>\n",
       "    <tr>\n",
       "      <th>12</th>\n",
       "      <td>3</td>\n",
       "      <td>3</td>\n",
       "      <td>1500.0</td>\n",
       "      <td>0</td>\n",
       "      <td>0</td>\n",
       "      <td>1</td>\n",
       "      <td>East</td>\n",
       "      <td>Not provided</td>\n",
       "      <td>Yes</td>\n",
       "      <td>No</td>\n",
       "      <td>...</td>\n",
       "      <td>0</td>\n",
       "      <td>0</td>\n",
       "      <td>0</td>\n",
       "      <td>0</td>\n",
       "      <td>0</td>\n",
       "      <td>0</td>\n",
       "      <td>0</td>\n",
       "      <td>0</td>\n",
       "      <td>0</td>\n",
       "      <td>0</td>\n",
       "    </tr>\n",
       "    <tr>\n",
       "      <th>13</th>\n",
       "      <td>2</td>\n",
       "      <td>2</td>\n",
       "      <td>0.0</td>\n",
       "      <td>-1</td>\n",
       "      <td>0</td>\n",
       "      <td>2</td>\n",
       "      <td>No Direction</td>\n",
       "      <td>Not provided</td>\n",
       "      <td>No</td>\n",
       "      <td>No</td>\n",
       "      <td>...</td>\n",
       "      <td>0</td>\n",
       "      <td>0</td>\n",
       "      <td>0</td>\n",
       "      <td>0</td>\n",
       "      <td>0</td>\n",
       "      <td>0</td>\n",
       "      <td>0</td>\n",
       "      <td>0</td>\n",
       "      <td>0</td>\n",
       "      <td>0</td>\n",
       "    </tr>\n",
       "  </tbody>\n",
       "</table>\n",
       "<p>10 rows × 886 columns</p>\n",
       "</div>"
      ],
      "text/plain": [
       "    bedroom  bathrooms    area  furnishing  avalable_for  floor_number  \\\n",
       "0         2          2  1050.0          -1             0             5   \n",
       "1         2          2   760.0          -1             0             5   \n",
       "3         1          1   628.0           1             1             3   \n",
       "4         2          2   668.0           0             2             6   \n",
       "5         2          2   950.0           0             1             1   \n",
       "7         2          2   900.0          -1             0             1   \n",
       "10        2          2     0.0           0             1             3   \n",
       "11        2          2  1000.0          -1             0             2   \n",
       "12        3          3  1500.0           0             0             1   \n",
       "13        2          2     0.0          -1             0             2   \n",
       "\n",
       "          facing         floor_type gate_community corner_pro  ...  \\\n",
       "0           West             Marble            Yes         No  ...   \n",
       "1           East          Vitrified            Yes        Yes  ...   \n",
       "3           East             Mosaic            Yes         No  ...   \n",
       "4          South  Polished concrete            Yes        Yes  ...   \n",
       "5   No Direction            Ceramic             No         No  ...   \n",
       "7   No Direction       Not provided             No         No  ...   \n",
       "10    South-East       Not provided            Yes         No  ...   \n",
       "11    North-East             Mosaic            Yes        Yes  ...   \n",
       "12          East       Not provided            Yes         No  ...   \n",
       "13  No Direction       Not provided             No         No  ...   \n",
       "\n",
       "    location_tushar park location_uttkarsh society katraj  \\\n",
       "0                      0                                0   \n",
       "1                      0                                0   \n",
       "3                      0                                0   \n",
       "4                      0                                0   \n",
       "5                      0                                0   \n",
       "7                      0                                0   \n",
       "10                     0                                0   \n",
       "11                     0                                0   \n",
       "12                     0                                0   \n",
       "13                     0                                0   \n",
       "\n",
       "   location_vadgaon budruk  location_vadgaonsheri  location_vishrantwadi  \\\n",
       "0                        0                      0                      0   \n",
       "1                        0                      0                      0   \n",
       "3                        0                      0                      0   \n",
       "4                        0                      0                      0   \n",
       "5                        0                      0                      0   \n",
       "7                        0                      0                      0   \n",
       "10                       0                      0                      0   \n",
       "11                       0                      0                      0   \n",
       "12                       0                      0                      0   \n",
       "13                       0                      0                      0   \n",
       "\n",
       "    location_vithai nagar  location_wadgaon sheri  location_wadgaonsheri  \\\n",
       "0                       0                       0                      0   \n",
       "1                       0                       0                      0   \n",
       "3                       0                       0                      0   \n",
       "4                       0                       0                      0   \n",
       "5                       0                       0                      0   \n",
       "7                       0                       0                      0   \n",
       "10                      0                       0                      0   \n",
       "11                      0                       0                      0   \n",
       "12                      0                       0                      0   \n",
       "13                      0                       0                      0   \n",
       "\n",
       "    location_waghere Colony no.4  location_wagholi  \n",
       "0                              0                 0  \n",
       "1                              0                 0  \n",
       "3                              0                 0  \n",
       "4                              0                 0  \n",
       "5                              0                 0  \n",
       "7                              0                 0  \n",
       "10                             0                 0  \n",
       "11                             0                 0  \n",
       "12                             0                 0  \n",
       "13                             0                 0  \n",
       "\n",
       "[10 rows x 886 columns]"
      ]
     },
     "execution_count": 22,
     "metadata": {},
     "output_type": "execute_result"
    }
   ],
   "source": [
    "df.head(10)"
   ]
  },
  {
   "cell_type": "code",
   "execution_count": 23,
   "id": "cf22b022",
   "metadata": {},
   "outputs": [
    {
     "data": {
      "text/plain": [
       "bedroom                           int64\n",
       "bathrooms                         int64\n",
       "area                            float64\n",
       "furnishing                        int64\n",
       "avalable_for                      int64\n",
       "                                 ...   \n",
       "location_vithai nagar             uint8\n",
       "location_wadgaon sheri            uint8\n",
       "location_wadgaonsheri             uint8\n",
       "location_waghere Colony no.4      uint8\n",
       "location_wagholi                  uint8\n",
       "Length: 886, dtype: object"
      ]
     },
     "execution_count": 23,
     "metadata": {},
     "output_type": "execute_result"
    }
   ],
   "source": [
    "df.dtypes"
   ]
  },
  {
   "cell_type": "code",
   "execution_count": 24,
   "id": "ef20058e",
   "metadata": {},
   "outputs": [],
   "source": [
    "integer_columns = df.select_dtypes(include=['int','float','uint8']).columns.tolist()\n",
    "short_df = df[integer_columns]"
   ]
  },
  {
   "cell_type": "code",
   "execution_count": 25,
   "id": "9edddd0e",
   "metadata": {},
   "outputs": [
    {
     "data": {
      "text/plain": [
       "Index(['bedroom', 'bathrooms', 'area', 'furnishing', 'avalable_for',\n",
       "       'floor_number', 'parking', 'aggDur', 'noticeDur', 'lightbill',\n",
       "       ...\n",
       "       'location_tushar park', 'location_uttkarsh society katraj',\n",
       "       'location_vadgaon budruk', 'location_vadgaonsheri',\n",
       "       'location_vishrantwadi', 'location_vithai nagar',\n",
       "       'location_wadgaon sheri', 'location_wadgaonsheri',\n",
       "       'location_waghere Colony no.4', 'location_wagholi'],\n",
       "      dtype='object', length=879)"
      ]
     },
     "execution_count": 25,
     "metadata": {},
     "output_type": "execute_result"
    }
   ],
   "source": [
    "short_df.columns"
   ]
  },
  {
   "cell_type": "code",
   "execution_count": 26,
   "id": "3f1776c4",
   "metadata": {},
   "outputs": [],
   "source": [
    "X_train = short_df.drop('rent', axis=1)\n",
    "Y_train = short_df['rent']"
   ]
  },
  {
   "cell_type": "code",
   "execution_count": 27,
   "id": "47f438be",
   "metadata": {},
   "outputs": [],
   "source": [
    "from sklearn.preprocessing import StandardScaler\n",
    "\n",
    "scaler = StandardScaler()\n",
    "\n",
    "scaled_X_train = scaler.fit_transform(X_train)"
   ]
  },
  {
   "cell_type": "code",
   "execution_count": 28,
   "id": "370de4f6",
   "metadata": {},
   "outputs": [
    {
     "data": {
      "text/html": [
       "<style>#sk-container-id-1 {color: black;}#sk-container-id-1 pre{padding: 0;}#sk-container-id-1 div.sk-toggleable {background-color: white;}#sk-container-id-1 label.sk-toggleable__label {cursor: pointer;display: block;width: 100%;margin-bottom: 0;padding: 0.3em;box-sizing: border-box;text-align: center;}#sk-container-id-1 label.sk-toggleable__label-arrow:before {content: \"▸\";float: left;margin-right: 0.25em;color: #696969;}#sk-container-id-1 label.sk-toggleable__label-arrow:hover:before {color: black;}#sk-container-id-1 div.sk-estimator:hover label.sk-toggleable__label-arrow:before {color: black;}#sk-container-id-1 div.sk-toggleable__content {max-height: 0;max-width: 0;overflow: hidden;text-align: left;background-color: #f0f8ff;}#sk-container-id-1 div.sk-toggleable__content pre {margin: 0.2em;color: black;border-radius: 0.25em;background-color: #f0f8ff;}#sk-container-id-1 input.sk-toggleable__control:checked~div.sk-toggleable__content {max-height: 200px;max-width: 100%;overflow: auto;}#sk-container-id-1 input.sk-toggleable__control:checked~label.sk-toggleable__label-arrow:before {content: \"▾\";}#sk-container-id-1 div.sk-estimator input.sk-toggleable__control:checked~label.sk-toggleable__label {background-color: #d4ebff;}#sk-container-id-1 div.sk-label input.sk-toggleable__control:checked~label.sk-toggleable__label {background-color: #d4ebff;}#sk-container-id-1 input.sk-hidden--visually {border: 0;clip: rect(1px 1px 1px 1px);clip: rect(1px, 1px, 1px, 1px);height: 1px;margin: -1px;overflow: hidden;padding: 0;position: absolute;width: 1px;}#sk-container-id-1 div.sk-estimator {font-family: monospace;background-color: #f0f8ff;border: 1px dotted black;border-radius: 0.25em;box-sizing: border-box;margin-bottom: 0.5em;}#sk-container-id-1 div.sk-estimator:hover {background-color: #d4ebff;}#sk-container-id-1 div.sk-parallel-item::after {content: \"\";width: 100%;border-bottom: 1px solid gray;flex-grow: 1;}#sk-container-id-1 div.sk-label:hover label.sk-toggleable__label {background-color: #d4ebff;}#sk-container-id-1 div.sk-serial::before {content: \"\";position: absolute;border-left: 1px solid gray;box-sizing: border-box;top: 0;bottom: 0;left: 50%;z-index: 0;}#sk-container-id-1 div.sk-serial {display: flex;flex-direction: column;align-items: center;background-color: white;padding-right: 0.2em;padding-left: 0.2em;position: relative;}#sk-container-id-1 div.sk-item {position: relative;z-index: 1;}#sk-container-id-1 div.sk-parallel {display: flex;align-items: stretch;justify-content: center;background-color: white;position: relative;}#sk-container-id-1 div.sk-item::before, #sk-container-id-1 div.sk-parallel-item::before {content: \"\";position: absolute;border-left: 1px solid gray;box-sizing: border-box;top: 0;bottom: 0;left: 50%;z-index: -1;}#sk-container-id-1 div.sk-parallel-item {display: flex;flex-direction: column;z-index: 1;position: relative;background-color: white;}#sk-container-id-1 div.sk-parallel-item:first-child::after {align-self: flex-end;width: 50%;}#sk-container-id-1 div.sk-parallel-item:last-child::after {align-self: flex-start;width: 50%;}#sk-container-id-1 div.sk-parallel-item:only-child::after {width: 0;}#sk-container-id-1 div.sk-dashed-wrapped {border: 1px dashed gray;margin: 0 0.4em 0.5em 0.4em;box-sizing: border-box;padding-bottom: 0.4em;background-color: white;}#sk-container-id-1 div.sk-label label {font-family: monospace;font-weight: bold;display: inline-block;line-height: 1.2em;}#sk-container-id-1 div.sk-label-container {text-align: center;}#sk-container-id-1 div.sk-container {/* jupyter's `normalize.less` sets `[hidden] { display: none; }` but bootstrap.min.css set `[hidden] { display: none !important; }` so we also need the `!important` here to be able to override the default hidden behavior on the sphinx rendered scikit-learn.org. See: https://github.com/scikit-learn/scikit-learn/issues/21755 */display: inline-block !important;position: relative;}#sk-container-id-1 div.sk-text-repr-fallback {display: none;}</style><div id=\"sk-container-id-1\" class=\"sk-top-container\"><div class=\"sk-text-repr-fallback\"><pre>LinearRegression()</pre><b>In a Jupyter environment, please rerun this cell to show the HTML representation or trust the notebook. <br />On GitHub, the HTML representation is unable to render, please try loading this page with nbviewer.org.</b></div><div class=\"sk-container\" hidden><div class=\"sk-item\"><div class=\"sk-estimator sk-toggleable\"><input class=\"sk-toggleable__control sk-hidden--visually\" id=\"sk-estimator-id-1\" type=\"checkbox\" checked><label for=\"sk-estimator-id-1\" class=\"sk-toggleable__label sk-toggleable__label-arrow\">LinearRegression</label><div class=\"sk-toggleable__content\"><pre>LinearRegression()</pre></div></div></div></div></div>"
      ],
      "text/plain": [
       "LinearRegression()"
      ]
     },
     "execution_count": 28,
     "metadata": {},
     "output_type": "execute_result"
    }
   ],
   "source": [
    "reg = linear_model.LinearRegression()\n",
    "reg.fit(X_train, Y_train)"
   ]
  },
  {
   "cell_type": "code",
   "execution_count": 29,
   "id": "9355ada5",
   "metadata": {},
   "outputs": [
    {
     "data": {
      "text/html": [
       "<style>#sk-container-id-2 {color: black;}#sk-container-id-2 pre{padding: 0;}#sk-container-id-2 div.sk-toggleable {background-color: white;}#sk-container-id-2 label.sk-toggleable__label {cursor: pointer;display: block;width: 100%;margin-bottom: 0;padding: 0.3em;box-sizing: border-box;text-align: center;}#sk-container-id-2 label.sk-toggleable__label-arrow:before {content: \"▸\";float: left;margin-right: 0.25em;color: #696969;}#sk-container-id-2 label.sk-toggleable__label-arrow:hover:before {color: black;}#sk-container-id-2 div.sk-estimator:hover label.sk-toggleable__label-arrow:before {color: black;}#sk-container-id-2 div.sk-toggleable__content {max-height: 0;max-width: 0;overflow: hidden;text-align: left;background-color: #f0f8ff;}#sk-container-id-2 div.sk-toggleable__content pre {margin: 0.2em;color: black;border-radius: 0.25em;background-color: #f0f8ff;}#sk-container-id-2 input.sk-toggleable__control:checked~div.sk-toggleable__content {max-height: 200px;max-width: 100%;overflow: auto;}#sk-container-id-2 input.sk-toggleable__control:checked~label.sk-toggleable__label-arrow:before {content: \"▾\";}#sk-container-id-2 div.sk-estimator input.sk-toggleable__control:checked~label.sk-toggleable__label {background-color: #d4ebff;}#sk-container-id-2 div.sk-label input.sk-toggleable__control:checked~label.sk-toggleable__label {background-color: #d4ebff;}#sk-container-id-2 input.sk-hidden--visually {border: 0;clip: rect(1px 1px 1px 1px);clip: rect(1px, 1px, 1px, 1px);height: 1px;margin: -1px;overflow: hidden;padding: 0;position: absolute;width: 1px;}#sk-container-id-2 div.sk-estimator {font-family: monospace;background-color: #f0f8ff;border: 1px dotted black;border-radius: 0.25em;box-sizing: border-box;margin-bottom: 0.5em;}#sk-container-id-2 div.sk-estimator:hover {background-color: #d4ebff;}#sk-container-id-2 div.sk-parallel-item::after {content: \"\";width: 100%;border-bottom: 1px solid gray;flex-grow: 1;}#sk-container-id-2 div.sk-label:hover label.sk-toggleable__label {background-color: #d4ebff;}#sk-container-id-2 div.sk-serial::before {content: \"\";position: absolute;border-left: 1px solid gray;box-sizing: border-box;top: 0;bottom: 0;left: 50%;z-index: 0;}#sk-container-id-2 div.sk-serial {display: flex;flex-direction: column;align-items: center;background-color: white;padding-right: 0.2em;padding-left: 0.2em;position: relative;}#sk-container-id-2 div.sk-item {position: relative;z-index: 1;}#sk-container-id-2 div.sk-parallel {display: flex;align-items: stretch;justify-content: center;background-color: white;position: relative;}#sk-container-id-2 div.sk-item::before, #sk-container-id-2 div.sk-parallel-item::before {content: \"\";position: absolute;border-left: 1px solid gray;box-sizing: border-box;top: 0;bottom: 0;left: 50%;z-index: -1;}#sk-container-id-2 div.sk-parallel-item {display: flex;flex-direction: column;z-index: 1;position: relative;background-color: white;}#sk-container-id-2 div.sk-parallel-item:first-child::after {align-self: flex-end;width: 50%;}#sk-container-id-2 div.sk-parallel-item:last-child::after {align-self: flex-start;width: 50%;}#sk-container-id-2 div.sk-parallel-item:only-child::after {width: 0;}#sk-container-id-2 div.sk-dashed-wrapped {border: 1px dashed gray;margin: 0 0.4em 0.5em 0.4em;box-sizing: border-box;padding-bottom: 0.4em;background-color: white;}#sk-container-id-2 div.sk-label label {font-family: monospace;font-weight: bold;display: inline-block;line-height: 1.2em;}#sk-container-id-2 div.sk-label-container {text-align: center;}#sk-container-id-2 div.sk-container {/* jupyter's `normalize.less` sets `[hidden] { display: none; }` but bootstrap.min.css set `[hidden] { display: none !important; }` so we also need the `!important` here to be able to override the default hidden behavior on the sphinx rendered scikit-learn.org. See: https://github.com/scikit-learn/scikit-learn/issues/21755 */display: inline-block !important;position: relative;}#sk-container-id-2 div.sk-text-repr-fallback {display: none;}</style><div id=\"sk-container-id-2\" class=\"sk-top-container\"><div class=\"sk-text-repr-fallback\"><pre>RandomForestRegressor()</pre><b>In a Jupyter environment, please rerun this cell to show the HTML representation or trust the notebook. <br />On GitHub, the HTML representation is unable to render, please try loading this page with nbviewer.org.</b></div><div class=\"sk-container\" hidden><div class=\"sk-item\"><div class=\"sk-estimator sk-toggleable\"><input class=\"sk-toggleable__control sk-hidden--visually\" id=\"sk-estimator-id-2\" type=\"checkbox\" checked><label for=\"sk-estimator-id-2\" class=\"sk-toggleable__label sk-toggleable__label-arrow\">RandomForestRegressor</label><div class=\"sk-toggleable__content\"><pre>RandomForestRegressor()</pre></div></div></div></div></div>"
      ],
      "text/plain": [
       "RandomForestRegressor()"
      ]
     },
     "execution_count": 29,
     "metadata": {},
     "output_type": "execute_result"
    }
   ],
   "source": [
    "from sklearn.ensemble import RandomForestRegressor\n",
    "rf = RandomForestRegressor()\n",
    "rf.fit(X_train, Y_train)"
   ]
  },
  {
   "cell_type": "code",
   "execution_count": 30,
   "id": "b124c650",
   "metadata": {},
   "outputs": [
    {
     "data": {
      "text/plain": [
       "array([ 4.14095956e+03,  1.82957948e+03, -1.11636695e-01,  1.74424740e+03,\n",
       "       -3.72219559e+02,  9.43157401e+01,  5.93914883e+02,  7.87896965e+00,\n",
       "       -6.81076321e+01,  3.63418876e+01,  1.82537501e+02,  1.91843338e+02,\n",
       "       -1.65394907e+11, -9.00235649e+11,  1.59432256e+12,  3.72285927e+11,\n",
       "        8.28727024e+11, -2.14322874e+10,  6.79647781e-02,  3.08599851e-02,\n",
       "       -9.31013295e+02, -5.58577232e+03, -3.68598700e+03,  1.57899876e+03,\n",
       "        4.89757254e+03,  4.28729778e+02,  2.62012861e+03, -1.01014633e+03,\n",
       "        1.12184015e+03, -7.78735744e+02, -2.37814380e+03, -9.44557865e+02,\n",
       "        6.30942783e+02, -1.02357662e+03, -2.83867907e+03, -2.94031343e+03,\n",
       "       -2.86335368e+03, -2.54932254e+03, -4.30089521e+03, -2.87725246e+03,\n",
       "        9.86732946e+02,  3.37547326e+03,  1.55718424e+03, -3.65839284e+03,\n",
       "       -1.61432493e+03,  1.05946119e+04,  1.27004235e+03,  3.10417379e+02,\n",
       "       -4.68835153e+03,  7.17024419e+03,  5.46034933e+03,  1.06934360e+03,\n",
       "        2.18196326e+03,  1.40405351e+03,  3.25928235e+03,  3.71378573e+03,\n",
       "        3.61918418e+03, -5.03663172e+03, -6.27401396e+03, -1.24758300e+03,\n",
       "        2.04544391e+03,  1.98588965e+03,  3.50859105e+03, -1.52880548e+03,\n",
       "        7.57842152e+03, -2.67479113e+03,  1.48080000e+03,  1.72793968e+03,\n",
       "       -2.15943701e+03, -5.72804126e+03, -9.09340286e+02,  3.54193253e+03,\n",
       "        2.73447646e+03,  6.67876297e+02,  2.12671405e+03,  3.68871899e+03,\n",
       "        3.08099073e+03,  3.28778854e+02, -4.09261541e+03, -3.52751140e+02,\n",
       "        2.22882068e+03, -3.60188628e+03, -2.00652903e+02,  3.69292909e+03,\n",
       "       -3.32415492e+03, -5.89448483e+02, -1.76138566e+03,  2.30076218e+01,\n",
       "        4.00635054e+02,  2.73294170e+04,  1.87134430e+02,  5.32886897e+02,\n",
       "        1.04560203e+03,  8.48275032e+01, -1.76125889e+03,  2.96529976e+03,\n",
       "       -5.47284468e+02,  3.35041573e+03, -2.18606587e+03, -6.56637129e+03,\n",
       "        3.32351347e+03, -4.51746483e+03, -4.86446226e+03,  6.53912982e+03,\n",
       "       -5.15511055e+02, -4.19608188e+02,  9.11384340e+02, -4.07921987e+03,\n",
       "        1.49224202e+03,  2.27466651e+03,  4.73750113e+03,  2.21163521e+03,\n",
       "        5.64358963e+02, -1.84749492e+03,  4.89737510e+03,  5.24542896e+02,\n",
       "        6.07229344e+03, -9.16397396e+02,  6.95675915e+02, -3.86309116e+03,\n",
       "       -9.83310289e+02,  6.76892404e+03,  2.03442768e+02,  2.48863950e+03,\n",
       "        3.19086156e+03,  3.11069506e+03, -7.91802197e+01, -5.29509390e+03,\n",
       "        3.08165928e+03,  2.02878138e+03,  7.31919447e+03,  6.26689771e+02,\n",
       "       -3.52404210e+03, -2.72148354e+03,  5.60774943e+02,  2.32935654e+02,\n",
       "       -1.61649356e+03,  7.25593572e+03,  5.83594177e+02,  9.77570332e+02,\n",
       "        2.30165335e+03,  1.51353224e+03, -2.94006417e+03, -2.31243959e+03,\n",
       "       -5.59208381e+03,  4.50208484e+03,  2.63429018e+03,  2.88457638e+03,\n",
       "       -1.99653612e+03, -5.36697269e+02, -2.59304593e+03, -2.19655084e+03,\n",
       "        2.74945043e+03, -7.89225090e+02,  6.55314522e+01, -1.87778348e+03,\n",
       "       -7.61214615e+02,  4.13197516e+03, -2.97226573e+03,  3.53020447e+03,\n",
       "        9.69200215e+03, -4.46401696e+03, -2.29017358e+03, -1.87918552e+02,\n",
       "        5.29434570e+02,  4.90005339e+02, -1.70570183e+01,  9.14599817e+02,\n",
       "        4.40968994e+03, -2.26643928e+03, -3.46262283e+03, -5.84078203e+03,\n",
       "        4.31278152e+01,  5.05221741e+02, -1.68126079e+03,  2.84563219e+03,\n",
       "        9.79789675e+03, -1.39107777e+03, -1.05530499e+03, -8.61587316e+02,\n",
       "        7.46208820e+03,  1.68238098e+03, -2.28322460e+03,  1.23523610e+03,\n",
       "        3.58533439e+03,  2.07566391e+03,  5.74590646e+03,  5.50881424e+03,\n",
       "        1.20734939e+04, -1.70913127e+03,  1.89481652e+03, -7.59662283e+03,\n",
       "       -2.94681924e+03,  2.39839661e+03,  2.27402642e+03,  5.37378839e+02,\n",
       "       -3.36671631e+02,  1.77892279e+03,  7.28556824e+02, -1.73703094e+03,\n",
       "        3.67779877e+02,  1.30961674e+02, -5.74278689e+03, -1.56028887e+03,\n",
       "       -2.97081321e+03,  3.55410641e+03, -2.20684507e+03,  2.47193636e+03,\n",
       "       -2.91859839e+03,  3.39247656e+03,  1.45371687e+03,  1.01427929e+03,\n",
       "       -2.28658003e+03, -7.88347988e+01,  1.22131470e+03, -8.56634338e+01,\n",
       "        1.46815857e+03, -5.52289740e+03,  4.34141075e+02,  2.88754130e+03,\n",
       "        8.38996277e+02,  1.07728556e+02, -2.45057058e+02, -2.95573785e+03,\n",
       "       -2.22823787e+03,  1.76742182e+02, -1.60905576e+03,  4.11853590e+03,\n",
       "        1.48267914e+04,  4.83946393e+03, -1.69063987e+03,  1.07704608e+03,\n",
       "       -5.06060341e+02,  7.27395024e+02,  6.32149017e+02,  2.46915053e+03,\n",
       "        1.07077112e+03, -1.98529105e+03,  2.02933678e+02,  4.71846517e+03,\n",
       "       -1.59730878e+03, -1.30429393e+03, -5.69336891e+01,  2.55076599e+03,\n",
       "        1.18097917e+04, -3.77389664e+03, -3.16467836e+03,  2.11495992e+03,\n",
       "       -1.27886818e+03, -8.79743591e+02,  2.24743040e+03, -3.49854177e+02,\n",
       "       -5.35097212e+03, -4.45554831e+03, -1.25224589e+03, -6.32685274e+02,\n",
       "       -6.02361591e+02,  2.70672100e+03,  1.46428617e+03, -2.07581816e+03,\n",
       "       -1.08772274e+02,  4.55232212e+03, -9.60754166e+02,  3.83263354e+03,\n",
       "        2.59406452e+03, -3.25622160e+03, -2.11091415e+03,  5.99012752e+03,\n",
       "        2.11895638e+03,  1.54742899e+03, -3.74256491e+03, -1.53682188e+03,\n",
       "        3.27056747e+02, -1.19279802e+03,  2.51548130e+02, -1.20493986e+03,\n",
       "       -2.95611938e+02,  8.06411572e+03,  8.21709031e+03, -1.95770226e+03,\n",
       "       -1.02278078e+03, -4.87284083e+03, -7.86110373e+03,  3.54926556e+02,\n",
       "       -2.88772704e+03, -2.49047092e+03,  2.46916484e+03,  1.93497395e+03,\n",
       "        7.58740307e+03, -6.02571063e+03, -3.32331548e+03, -5.72600206e+03,\n",
       "       -4.43367455e+02, -7.10617165e+02,  2.38970303e+02,  4.44999586e+02,\n",
       "        3.32556710e+03, -3.32427613e+03,  1.64387954e+03,  1.66976373e+03,\n",
       "       -2.05827016e+03, -2.22667105e+03,  2.12445674e+03,  4.55960754e+03,\n",
       "       -1.07269027e+04,  4.96887207e-01,  9.80565048e+02,  2.11602138e+03,\n",
       "       -1.50814224e+02, -9.00113754e+01, -4.48278358e+03,  2.37104552e+03,\n",
       "       -3.15951939e+03, -3.71418318e+03,  4.76808717e+03,  1.97920886e+04,\n",
       "       -2.75379988e+03,  1.76193774e+03, -5.95857552e+02,  3.02620574e+02,\n",
       "       -2.21839406e+02, -2.86557455e+03,  7.92382374e+02, -2.58202238e+03,\n",
       "       -4.80014852e+03, -3.96387001e+03, -1.01234575e+03, -2.27497256e+03,\n",
       "        8.27838875e+02,  6.15224201e+02,  9.67542165e+02,  2.35927386e+03,\n",
       "       -6.43143086e+03, -4.77869279e+03,  6.32859314e+03,  3.87287636e+03,\n",
       "        2.71538754e+03,  6.66907671e+03,  1.50275198e+03, -7.49113134e+03,\n",
       "        2.60797939e+03,  1.07005912e+03,  2.28203905e+03,  1.24357671e+03,\n",
       "        3.33666272e+03,  4.14730801e+03, -2.82925685e+02,  8.62971710e+02,\n",
       "        5.50966849e+03,  4.83426243e+03,  4.10068877e+03,  6.87790776e+03,\n",
       "        9.52657257e+02, -1.39560940e+02, -1.42545368e+03, -1.18364657e+03,\n",
       "        1.13445747e+02, -2.84393101e+03,  1.76127071e+03,  5.02000119e+03,\n",
       "       -4.83517570e+03, -2.95172150e+03,  1.56742196e+03,  4.91220045e+03,\n",
       "        3.86488852e+03, -3.43586971e+03, -2.42653893e+03,  4.39881470e+03,\n",
       "       -6.25845367e+02,  2.61206268e+03,  7.17837756e+02,  3.87119092e+03,\n",
       "        7.28319149e+03, -4.33174658e+03, -3.12088485e+03, -7.78113274e+03,\n",
       "        7.31664493e+03,  4.97048704e+02, -2.89685788e+03,  7.10197758e+02,\n",
       "       -1.03382898e+03,  1.24953871e+03, -1.26413068e+04,  2.88063764e+03,\n",
       "       -4.38484535e+03,  3.64004761e+03, -1.71119813e+03, -4.77043988e+03,\n",
       "       -1.74265633e+03,  7.43963717e+03,  2.84678187e+03, -1.04991184e+04,\n",
       "       -5.77770752e+02, -1.40900751e+02, -2.91026338e+03, -1.43810845e+03,\n",
       "       -6.30077110e+02,  4.72101537e+02,  4.20940956e+03, -2.43213678e+03,\n",
       "        3.34559285e+03,  2.49414640e+03,  6.32521890e+02, -2.78552203e+03,\n",
       "        3.97264798e+03,  6.34636034e+03, -2.66466438e+03,  1.31958778e+04,\n",
       "       -3.27527336e+03,  7.31653040e+03, -1.09079586e+02,  1.67487931e+03,\n",
       "        1.94861581e+03,  2.40149711e+03,  6.00378468e+03,  1.63462210e+04,\n",
       "        1.28458834e+03, -1.78846981e+02, -1.51976889e+03, -1.89222635e+02,\n",
       "        5.65475325e+02, -2.18657233e+03,  3.11790458e+03,  1.96185835e+03,\n",
       "        2.34790826e+03,  4.94801089e+03, -2.76594111e+03,  2.13308710e+03,\n",
       "        2.82277573e+02, -4.26616267e+02, -3.23418279e+03,  3.74878933e+03,\n",
       "        2.77849594e+02,  3.98985066e+03,  4.41198658e+02, -4.27635730e+03,\n",
       "       -1.32292472e+03, -4.14114637e+03, -1.08580557e+03, -1.59966599e+03,\n",
       "        4.02240370e+03,  6.39964858e+03, -2.35458348e+03,  1.25765018e+04,\n",
       "        3.77327367e+03, -2.05270686e+03, -5.79335693e+03, -2.09173033e+03,\n",
       "       -9.64879904e+03, -1.10024425e+03,  3.83614894e+03,  2.58106695e+03,\n",
       "        1.36564554e+03, -4.93917480e+02,  1.16009775e+03, -6.60595137e+02,\n",
       "       -6.07611242e+02,  1.48074326e+03, -2.28425025e+03, -4.99160094e+03,\n",
       "       -1.04960422e+03,  3.26964428e+03, -5.11309328e+01,  2.44325303e+03,\n",
       "        9.74023629e+02,  9.31146936e+02, -3.46671265e+02, -4.85630112e+03,\n",
       "        8.99942574e+02, -2.16230160e+02, -8.97576754e+02,  3.90811407e+03,\n",
       "        9.55228781e+02, -2.69114910e+03,  1.09718044e+02,  4.32723422e+03,\n",
       "        2.75360405e+03,  7.31482676e+03, -7.59975056e+02, -1.89986681e+03,\n",
       "       -5.61127589e+03,  3.09933723e+03, -1.44738313e+03,  2.05424117e+03,\n",
       "        1.80768943e+03, -2.11133542e+03,  3.90813133e+02,  4.42459920e+03,\n",
       "        4.45309708e+03,  1.52896091e+02, -1.79214225e+03,  5.34995895e+03,\n",
       "       -1.79856230e+03,  1.52199610e+03,  2.04541232e+03, -9.73473737e+02,\n",
       "        4.79193177e+02,  3.13114835e+03,  3.24880228e+02,  5.83034405e+02,\n",
       "       -2.99878900e+03, -5.44379146e+02,  8.34841801e+03,  6.09659264e+02,\n",
       "        1.42128569e+03,  3.00369568e+02,  5.43758157e+03, -1.88583144e+03,\n",
       "       -3.94709662e+03,  9.11919952e+02, -2.67810196e+03,  8.96921600e+02,\n",
       "        1.56597461e+03, -5.35756460e+02,  1.83675388e+03,  2.05994177e+03,\n",
       "        1.05276081e+03, -5.64067927e+03, -3.43357846e+03,  1.23913101e+03,\n",
       "       -3.76343599e+03,  1.82101945e+03,  4.14235103e+03,  4.27862728e+01,\n",
       "        2.38470925e+03,  6.40776276e+03,  1.48620296e+03,  1.65177207e+03,\n",
       "       -6.62066370e+03,  3.06471245e+03,  1.06931320e+03, -2.98403175e+03,\n",
       "       -2.00053163e+03,  3.64881707e+03, -2.15622835e+03,  5.67361254e+02,\n",
       "        1.92871675e+03,  4.85441279e+03, -1.57229747e+03,  2.56125998e+02,\n",
       "       -1.39548904e+03,  1.23828903e+02, -3.95245032e+03,  2.25072750e+03,\n",
       "        2.62742999e+03,  1.76577191e+03,  1.81232290e+01,  1.15562427e+03,\n",
       "        3.76518760e+03,  3.16665902e+03,  4.14481073e+03,  1.81469710e+03,\n",
       "        2.41733843e+03,  4.78238459e+03, -1.51410729e+04,  4.67955425e+03,\n",
       "       -2.75637262e+03,  2.45047629e+03, -3.35756104e+02,  8.30821584e+02,\n",
       "        2.97288110e+03, -2.13106098e+03, -1.25197563e+03,  1.79467702e+03,\n",
       "        7.58742648e+03,  2.31812847e+03,  1.12164781e+03,  6.93818279e+03,\n",
       "        3.52045132e+03,  4.54234001e+03, -6.70734152e+02,  4.99398511e+03,\n",
       "        1.66310287e+03, -6.96011697e+03, -3.54531626e+03, -5.01997488e+03,\n",
       "       -2.93943110e+03,  1.02912646e+03, -3.04653771e+03, -1.64486288e+03,\n",
       "       -1.53685873e+03,  1.90435491e+03,  1.59498589e+03,  6.97259694e+03,\n",
       "        4.53172027e+03,  1.06745292e+03,  4.06355904e+03,  1.91628865e+04,\n",
       "        4.45737865e+03, -2.01168172e+03,  3.60810540e+03,  3.88263964e+03,\n",
       "        6.83534088e+01, -4.81139878e+03, -7.21363867e+03,  3.57024037e+03,\n",
       "        6.25649537e+03, -8.66203156e+02,  7.21649109e+02,  7.55895416e+02,\n",
       "       -9.26580782e+02,  1.59277724e+03, -1.94060633e+03, -1.77972465e+03,\n",
       "       -6.37604039e+03, -5.65811492e+02, -1.40289754e+03, -3.47179335e+03,\n",
       "       -3.04830534e+03, -1.08913730e+03, -1.89347826e+03,  2.43159088e+03,\n",
       "        3.60393985e+02,  3.53724142e+03, -1.24426911e+03, -2.26729496e+03,\n",
       "       -2.29449050e+03, -3.75413697e+02, -2.34478481e+03, -5.58709824e+02,\n",
       "       -1.20989838e+01, -4.91364846e+03,  7.11662987e+03, -1.71280931e+03,\n",
       "       -1.45275808e+02, -2.25266785e+03,  4.41525900e+03,  2.37020717e+03,\n",
       "        3.90852892e+03,  1.13823569e+03,  4.55074752e+03, -3.96048076e+03,\n",
       "        4.48306549e+03, -5.50169472e+03, -1.02769572e+03, -4.36885271e+03,\n",
       "        5.69113102e+02, -6.69246388e+02, -2.56834648e+03, -4.89883728e+03,\n",
       "       -6.53519147e+03,  5.49154129e+03, -1.46220273e+03, -1.43931679e+03,\n",
       "        9.90961583e+03,  1.33940544e+04,  9.82905616e+03, -1.69141323e+02,\n",
       "        1.10488152e+04, -4.51794984e+03,  1.88073431e+03, -1.42571584e+03,\n",
       "        4.12418501e+03,  5.14811598e+03,  1.70306562e+03,  4.24047175e+03,\n",
       "       -1.02376403e+03,  7.29185440e+02,  2.70217573e+03,  1.12827103e+03,\n",
       "        7.58408096e+02,  2.71808792e+02,  2.93468008e+03, -6.73948236e+03,\n",
       "       -3.88113116e+03,  3.41643160e+03,  4.24801881e+03,  7.62275967e+02,\n",
       "        3.53082204e+03,  4.74469998e+03,  5.50579059e+03,  4.42258530e+01,\n",
       "        8.43470558e+02, -2.84078148e+02, -7.74470498e+02,  4.47293669e+03,\n",
       "        3.12860487e+03, -9.32428238e+02,  5.76213036e+02,  1.36573871e+03,\n",
       "        6.18661507e+03, -1.21490205e+04,  7.80928001e+02,  9.24367384e+03,\n",
       "        2.59510324e+03,  1.88615208e+03, -1.71400925e+03, -4.67567605e+03,\n",
       "       -5.66168367e+03, -2.92621556e+03, -6.53145918e+03,  3.26773205e+01,\n",
       "        3.48027023e+03, -5.53651013e+01,  6.18607311e+02,  4.41603320e+03,\n",
       "        8.78721100e+02,  2.20335703e+03, -3.23415539e+03,  4.55780108e+03,\n",
       "        4.13266747e+03,  2.87988914e+03,  5.58867645e+03, -6.41017270e+03,\n",
       "       -2.76217914e+03,  2.82221306e+03,  5.55638718e+03,  1.93339759e+03,\n",
       "       -8.33039597e+02,  1.06884333e+04,  3.02646887e+02,  1.64052345e+03,\n",
       "       -7.32932804e+02, -1.46960132e+03, -2.81428991e+03, -1.50308690e+03,\n",
       "       -8.44241943e+02, -4.56031370e+03, -8.46711926e+03, -1.52357975e+03,\n",
       "       -5.32933960e+02, -1.66197283e+03, -3.65193966e+03,  1.30802121e+03,\n",
       "        1.29490626e+03,  2.39847194e+03, -2.29451607e+03, -6.51397776e+02,\n",
       "        3.53520906e+03, -2.44587601e+02, -1.47200243e+03,  9.65271130e+03,\n",
       "        2.52565640e+03,  2.75010757e+03, -1.22585882e+03,  3.79752563e+02,\n",
       "        6.64198529e+03,  4.00880571e+03,  4.59351904e+03,  3.13039260e+03,\n",
       "       -9.39109497e+01, -2.16682806e+02,  4.31508205e+02,  8.01037003e+02,\n",
       "       -5.90186115e+03,  2.04939867e+03, -6.54594256e+03, -2.28159149e+03,\n",
       "       -2.10241757e+03, -1.94170650e+03,  2.40899091e+03, -4.10563147e+03,\n",
       "       -1.06039661e+03,  4.20216627e+03,  2.22854942e+02,  2.43723886e+03,\n",
       "       -2.05241619e+03, -7.74010969e+02, -2.84968886e+03,  2.39473515e+01,\n",
       "       -2.31140978e+03,  1.27665186e+03,  2.12560677e+03,  1.17590003e+03,\n",
       "        1.02220718e+04, -6.30609131e+00,  7.91814999e+03, -6.31479561e+02,\n",
       "        4.47935718e+03,  3.34834018e+03, -6.06573901e+03,  2.82373894e+02,\n",
       "       -1.46750112e+03, -4.47854577e+03, -2.54377573e+03,  2.22720278e+03,\n",
       "       -2.97081995e+03,  1.47129366e+03,  9.39196354e+03,  2.57291348e+03,\n",
       "       -3.54551204e+03,  2.33718553e+03,  1.58847023e+03,  5.92740688e+01,\n",
       "       -1.50366350e+03, -3.38624206e+03,  3.04154011e+03, -1.28960207e+03,\n",
       "       -1.58559216e+03, -1.82606383e+03, -1.26533895e+02,  1.57621431e+03,\n",
       "       -2.29138231e+03, -3.88661630e+03, -3.23170366e+03, -3.03251647e+03,\n",
       "       -5.34669474e+03,  8.09745065e+03,  8.89904940e+03, -1.36682982e+03,\n",
       "       -8.57149369e+02, -1.39010940e+03,  1.08164374e+03, -3.03379198e+03,\n",
       "        4.89850652e+02,  1.37808142e+03, -3.91276806e+02, -2.23929330e+03,\n",
       "       -1.93573719e+03,  3.67070618e+03,  1.56773254e+03, -1.44254091e+03,\n",
       "        1.31262406e+03, -1.36256534e+03, -1.67061584e+03,  9.53593414e+02,\n",
       "       -1.38295717e+03, -1.04299179e+03, -1.82829091e+03,  8.67040836e+02,\n",
       "       -2.21576411e+03,  2.77803305e+03, -3.83600339e+03, -4.51672825e+02,\n",
       "       -9.83990589e+03, -9.56209677e+02, -2.32188907e+03,  1.01923790e+04,\n",
       "        5.71475424e+02,  5.98161752e+03, -3.40229895e+02, -5.06008377e+03,\n",
       "        2.07781120e+02,  6.57443773e+03,  3.13634224e+03, -9.59582306e+02,\n",
       "        1.81439212e+03, -1.31590153e+03,  1.25032391e+04, -2.24285728e+02,\n",
       "       -1.92299106e+03,  7.01631235e+02,  4.70886995e+03,  3.00721051e+03,\n",
       "        7.20188379e+02,  1.14668727e+03, -2.14584702e+03, -1.19858657e+03,\n",
       "        1.75966483e+03, -3.22332241e+03,  1.34145072e+03,  6.70098270e+03,\n",
       "        1.05764135e+04, -3.10067730e+03, -3.54444202e+03,  1.29511391e+03,\n",
       "       -2.52876932e+02,  8.21913979e+02, -3.55370373e+03, -2.90420369e+03,\n",
       "        5.51408232e+03,  7.37797083e+02, -1.87423988e+03,  2.75545076e+02,\n",
       "        4.08543327e+03,  5.34440791e+03, -1.66126330e+03, -2.20466974e+03,\n",
       "        3.18089446e+03,  3.43659512e+02,  1.77319813e+03,  4.90214222e+02,\n",
       "        4.00812651e+03, -2.13154521e+03, -2.10829255e+03,  7.01548619e+03,\n",
       "       -2.49691757e+03, -3.20294589e+03])"
      ]
     },
     "execution_count": 30,
     "metadata": {},
     "output_type": "execute_result"
    }
   ],
   "source": [
    "reg.coef_"
   ]
  },
  {
   "cell_type": "code",
   "execution_count": 31,
   "id": "9876136c",
   "metadata": {
    "scrolled": false
   },
   "outputs": [
    {
     "data": {
      "text/plain": [
       "165394909728.18085"
      ]
     },
     "execution_count": 31,
     "metadata": {},
     "output_type": "execute_result"
    }
   ],
   "source": [
    "reg.intercept_"
   ]
  },
  {
   "cell_type": "code",
   "execution_count": 32,
   "id": "4a9aa86f",
   "metadata": {
    "scrolled": true
   },
   "outputs": [],
   "source": [
    "integer_columns = df_test.select_dtypes(include=['int','float','uint8']).columns.tolist()\n",
    "test_df = df[integer_columns]"
   ]
  },
  {
   "cell_type": "code",
   "execution_count": 33,
   "id": "b4d81210",
   "metadata": {},
   "outputs": [],
   "source": [
    "X_test = test_df.drop('rent', axis=1)\n",
    "Y_test = test_df['rent']"
   ]
  },
  {
   "cell_type": "code",
   "execution_count": 34,
   "id": "898fffd6",
   "metadata": {},
   "outputs": [],
   "source": [
    "scaler = StandardScaler()\n",
    "scaled_X_test = scaler.fit_transform(X_test)"
   ]
  },
  {
   "cell_type": "code",
   "execution_count": 35,
   "id": "2dc77cf2",
   "metadata": {
    "scrolled": false
   },
   "outputs": [],
   "source": [
    "predicted = reg.predict(X_test)"
   ]
  },
  {
   "cell_type": "code",
   "execution_count": 36,
   "id": "384c2eed",
   "metadata": {},
   "outputs": [],
   "source": [
    "predicted_rf = rf.predict(X_test)"
   ]
  },
  {
   "cell_type": "code",
   "execution_count": 37,
   "id": "c95155fd",
   "metadata": {
    "scrolled": true
   },
   "outputs": [
    {
     "name": "stdout",
     "output_type": "stream",
     "text": [
      "2360.2866485799536\n",
      "R^2: 0.76\n"
     ]
    }
   ],
   "source": [
    "from sklearn.metrics import r2_score, mean_absolute_error\n",
    "print(mean_absolute_error(Y_test,predicted))\n",
    "print('R^2: %.2f' % r2_score(Y_test,predicted))"
   ]
  },
  {
   "cell_type": "code",
   "execution_count": 38,
   "id": "be49d02b",
   "metadata": {},
   "outputs": [
    {
     "name": "stdout",
     "output_type": "stream",
     "text": [
      "MAPE: 15.352958573622663%\n"
     ]
    }
   ],
   "source": [
    "mae = mean_absolute_error(Y_test,predicted)\n",
    "mape = 100 * (mae / test_df['rent'].mean())\n",
    "print(f\"MAPE: {mape}%\")"
   ]
  },
  {
   "cell_type": "code",
   "execution_count": 39,
   "id": "c266d121",
   "metadata": {},
   "outputs": [
    {
     "name": "stdout",
     "output_type": "stream",
     "text": [
      "819.3468102767393\n",
      "R^2: 0.97\n"
     ]
    }
   ],
   "source": [
    "from sklearn.metrics import r2_score, mean_absolute_error\n",
    "print(mean_absolute_error(Y_test,predicted_rf))\n",
    "print('R^2: %.2f' % r2_score(Y_test,predicted_rf))"
   ]
  },
  {
   "cell_type": "code",
   "execution_count": 40,
   "id": "1b464b98",
   "metadata": {
    "scrolled": true
   },
   "outputs": [
    {
     "name": "stdout",
     "output_type": "stream",
     "text": [
      "MAPE: 5.329605894765763%\n"
     ]
    }
   ],
   "source": [
    "mae = mean_absolute_error(Y_test,predicted_rf)\n",
    "mape = 100 * (mae / test_df['rent'].mean())\n",
    "print(f\"MAPE: {mape}%\")"
   ]
  }
 ],
 "metadata": {
  "kernelspec": {
   "display_name": "Python 3 (ipykernel)",
   "language": "python",
   "name": "python3"
  },
  "language_info": {
   "codemirror_mode": {
    "name": "ipython",
    "version": 3
   },
   "file_extension": ".py",
   "mimetype": "text/x-python",
   "name": "python",
   "nbconvert_exporter": "python",
   "pygments_lexer": "ipython3",
   "version": "3.9.7"
  }
 },
 "nbformat": 4,
 "nbformat_minor": 5
}
